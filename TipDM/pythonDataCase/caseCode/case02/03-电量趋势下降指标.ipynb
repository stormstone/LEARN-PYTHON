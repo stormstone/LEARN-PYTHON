{
 "cells": [
  {
   "cell_type": "code",
   "execution_count": 2,
   "metadata": {
    "collapsed": true
   },
   "outputs": [],
   "source": [
    "import numpy as np\n",
    "import pandas as pd"
   ]
  },
  {
   "cell_type": "code",
   "execution_count": 3,
   "metadata": {
    "collapsed": true
   },
   "outputs": [],
   "source": [
    "electricity = pd.read_csv(\"E:/P-Python/electricity.csv\")"
   ]
  },
  {
   "cell_type": "code",
   "execution_count": 4,
   "metadata": {},
   "outputs": [
    {
     "data": {
      "text/html": [
       "<div>\n",
       "<style>\n",
       "    .dataframe thead tr:only-child th {\n",
       "        text-align: right;\n",
       "    }\n",
       "\n",
       "    .dataframe thead th {\n",
       "        text-align: left;\n",
       "    }\n",
       "\n",
       "    .dataframe tbody tr th {\n",
       "        vertical-align: top;\n",
       "    }\n",
       "</style>\n",
       "<table border=\"1\" class=\"dataframe\">\n",
       "  <thead>\n",
       "    <tr style=\"text-align: right;\">\n",
       "      <th></th>\n",
       "      <th>Date</th>\n",
       "      <th>Elec</th>\n",
       "      <th>Line loss</th>\n",
       "    </tr>\n",
       "  </thead>\n",
       "  <tbody>\n",
       "    <tr>\n",
       "      <th>0</th>\n",
       "      <td>2011/11/11</td>\n",
       "      <td>4640</td>\n",
       "      <td>0.103942</td>\n",
       "    </tr>\n",
       "    <tr>\n",
       "      <th>1</th>\n",
       "      <td>2011/11/14</td>\n",
       "      <td>4450</td>\n",
       "      <td>0.122144</td>\n",
       "    </tr>\n",
       "    <tr>\n",
       "      <th>2</th>\n",
       "      <td>2011/11/15</td>\n",
       "      <td>4300</td>\n",
       "      <td>0.127975</td>\n",
       "    </tr>\n",
       "    <tr>\n",
       "      <th>3</th>\n",
       "      <td>2011/11/16</td>\n",
       "      <td>4290</td>\n",
       "      <td>0.128812</td>\n",
       "    </tr>\n",
       "    <tr>\n",
       "      <th>4</th>\n",
       "      <td>2011/11/17</td>\n",
       "      <td>4010</td>\n",
       "      <td>0.130313</td>\n",
       "    </tr>\n",
       "    <tr>\n",
       "      <th>5</th>\n",
       "      <td>2011/11/18</td>\n",
       "      <td>4560</td>\n",
       "      <td>0.137545</td>\n",
       "    </tr>\n",
       "    <tr>\n",
       "      <th>6</th>\n",
       "      <td>2011/11/21</td>\n",
       "      <td>3720</td>\n",
       "      <td>0.142920</td>\n",
       "    </tr>\n",
       "    <tr>\n",
       "      <th>7</th>\n",
       "      <td>2011/11/22</td>\n",
       "      <td>3740</td>\n",
       "      <td>0.143239</td>\n",
       "    </tr>\n",
       "    <tr>\n",
       "      <th>8</th>\n",
       "      <td>2011/11/23</td>\n",
       "      <td>3850</td>\n",
       "      <td>0.170954</td>\n",
       "    </tr>\n",
       "    <tr>\n",
       "      <th>9</th>\n",
       "      <td>2011/11/24</td>\n",
       "      <td>4150</td>\n",
       "      <td>0.173490</td>\n",
       "    </tr>\n",
       "  </tbody>\n",
       "</table>\n",
       "</div>"
      ],
      "text/plain": [
       "         Date  Elec  Line loss\n",
       "0  2011/11/11  4640   0.103942\n",
       "1  2011/11/14  4450   0.122144\n",
       "2  2011/11/15  4300   0.127975\n",
       "3  2011/11/16  4290   0.128812\n",
       "4  2011/11/17  4010   0.130313\n",
       "5  2011/11/18  4560   0.137545\n",
       "6  2011/11/21  3720   0.142920\n",
       "7  2011/11/22  3740   0.143239\n",
       "8  2011/11/23  3850   0.170954\n",
       "9  2011/11/24  4150   0.173490"
      ]
     },
     "execution_count": 4,
     "metadata": {},
     "output_type": "execute_result"
    }
   ],
   "source": [
    "electricity.head(10)#查看前10行数据"
   ]
  },
  {
   "cell_type": "code",
   "execution_count": 6,
   "metadata": {
    "collapsed": true
   },
   "outputs": [],
   "source": [
    "down = list(electricity[\"Elec\"])"
   ]
  },
  {
   "cell_type": "code",
   "execution_count": 7,
   "metadata": {
    "collapsed": true
   },
   "outputs": [],
   "source": [
    "length = len(down)"
   ]
  },
  {
   "cell_type": "markdown",
   "metadata": {},
   "source": [
    "1、求电量下降趋势第一步计算每一天的斜率，考虑前后五天的斜率"
   ]
  },
  {
   "cell_type": "code",
   "execution_count": 8,
   "metadata": {
    "collapsed": true
   },
   "outputs": [],
   "source": [
    "k = [] "
   ]
  },
  {
   "cell_type": "code",
   "execution_count": 9,
   "metadata": {
    "collapsed": true
   },
   "outputs": [],
   "source": [
    "for i in range(length):\n",
    "    if i <= 4:\n",
    "        l = range(0,(i+6))                          #i-5不满足5天，求斜率天数取值为l\n",
    "        s = np.cov(down[0:(i+6)],l)[1,0]/np.var(l)  #协方差的输入为两个一维数组，返回值为协方差矩阵；分母为样本方差\n",
    "    if 4 < i <= (length-6):#当天及后五天合计六天\n",
    "        l = range((i-5),(i+6))                      #i-5及i+6均满足5天求斜率的天数取值为l\n",
    "        s = np.cov(down[(i-5):(i+6)],l)[1,0]/np.var(l)  \n",
    "    if i > (length-6):\n",
    "        l = range((i-5),length)                      #i+5不满足5天，求斜率天数取值为l\n",
    "        s = np.cov(down[(i-5):length],l)[1,0]/np.var(l)\n",
    "    k.append(s)"
   ]
  },
  {
   "cell_type": "code",
   "execution_count": 10,
   "metadata": {},
   "outputs": [
    {
     "data": {
      "text/plain": [
       "[-59.314285714285717,\n",
       " -117.91666666666666,\n",
       " -128.57142857142858,\n",
       " -115.875,\n",
       " -84.646464646464636,\n",
       " -10.9,\n",
       " 32.299999999999997,\n",
       " 17.699999999999999,\n",
       " -3.0,\n",
       " -20.600000000000001,\n",
       " -66.900000000000006,\n",
       " -56.200000000000003,\n",
       " -113.7,\n",
       " -163.70000000000002,\n",
       " -181.0,\n",
       " -221.90000000000001,\n",
       " -199.09999999999997,\n",
       " -143.09999999999999,\n",
       " -121.49999999999997,\n",
       " -86.599999999999994,\n",
       " -61.299999999999997,\n",
       " -115.8,\n",
       " -108.7,\n",
       " -92.900000000000006,\n",
       " -77.700000000000003,\n",
       " -20.300000000000001,\n",
       " -41.600000000000001,\n",
       " -84.300000000000026,\n",
       " -70.400000000000006,\n",
       " -53.600000000000001,\n",
       " -67.299999999999997,\n",
       " -77.099999999999994,\n",
       " -148.5,\n",
       " -161.59999999999999,\n",
       " -146.19999999999999,\n",
       " -131.5,\n",
       " -78.799999999999997,\n",
       " -63.499999999999986,\n",
       " -55.488215488215488,\n",
       " -10.125,\n",
       " 68.027210884353735,\n",
       " 65.833333333333329,\n",
       " 42.857142857142861]"
      ]
     },
     "execution_count": 10,
     "metadata": {},
     "output_type": "execute_result"
    }
   ],
   "source": [
    "k"
   ]
  },
  {
   "cell_type": "markdown",
   "metadata": {},
   "source": [
    "2、统计11天内当天比前一天递减的天数,所以是从第二天开始，第一天是没办法递减的"
   ]
  },
  {
   "cell_type": "code",
   "execution_count": 9,
   "metadata": {},
   "outputs": [
    {
     "data": {
      "text/plain": [
       "42"
      ]
     },
     "execution_count": 9,
     "metadata": {},
     "output_type": "execute_result"
    }
   ],
   "source": [
    "des = []\n",
    "for i in range(1,length): \n",
    "    if k[i] < k[i-1]:\n",
    "        des.append(1)       \n",
    "    else:\n",
    "        des.append(0)\n",
    "len(des) "
   ]
  },
  {
   "cell_type": "markdown",
   "metadata": {},
   "source": [
    "3、将递减的天数进行求和"
   ]
  },
  {
   "cell_type": "code",
   "execution_count": 10,
   "metadata": {
    "collapsed": true
   },
   "outputs": [],
   "source": [
    "total = []\n",
    "for i in range(length):\n",
    "    if i < 4:\n",
    "        m = sum(des[0:(i+6)])\n",
    "    if 4 < i < (length-6):\n",
    "        m = sum(des[(i-4):(i+6)]) #统计求和不计算第一天的数值，从第二天开始\n",
    "    if i > (length-6):\n",
    "        m = sum(des[(i-4):length])#统计求和不计算第一天的数值，从第二天开始\n",
    "    total.append(m) "
   ]
  },
  {
   "cell_type": "code",
   "execution_count": 11,
   "metadata": {},
   "outputs": [
    {
     "data": {
      "text/plain": [
       "43"
      ]
     },
     "execution_count": 11,
     "metadata": {},
     "output_type": "execute_result"
    }
   ],
   "source": [
    "len(total)"
   ]
  },
  {
   "cell_type": "code",
   "execution_count": 12,
   "metadata": {
    "collapsed": true
   },
   "outputs": [],
   "source": [
    "electricity[\"down\"] = total"
   ]
  },
  {
   "cell_type": "code",
   "execution_count": 13,
   "metadata": {},
   "outputs": [
    {
     "data": {
      "text/plain": [
       "3    9\n",
       "5    8\n",
       "4    8\n",
       "2    8\n",
       "6    5\n",
       "8    2\n",
       "7    2\n",
       "1    1\n",
       "Name: down, dtype: int64"
      ]
     },
     "execution_count": 13,
     "metadata": {},
     "output_type": "execute_result"
    }
   ],
   "source": [
    "electricity[\"down\"].value_counts()"
   ]
  },
  {
   "cell_type": "code",
   "execution_count": 5,
   "metadata": {},
   "outputs": [
    {
     "data": {
      "text/html": [
       "<div>\n",
       "<style>\n",
       "    .dataframe thead tr:only-child th {\n",
       "        text-align: right;\n",
       "    }\n",
       "\n",
       "    .dataframe thead th {\n",
       "        text-align: left;\n",
       "    }\n",
       "\n",
       "    .dataframe tbody tr th {\n",
       "        vertical-align: top;\n",
       "    }\n",
       "</style>\n",
       "<table border=\"1\" class=\"dataframe\">\n",
       "  <thead>\n",
       "    <tr style=\"text-align: right;\">\n",
       "      <th></th>\n",
       "      <th>Date</th>\n",
       "      <th>Elec</th>\n",
       "      <th>Line loss</th>\n",
       "    </tr>\n",
       "  </thead>\n",
       "  <tbody>\n",
       "    <tr>\n",
       "      <th>0</th>\n",
       "      <td>2011/11/11</td>\n",
       "      <td>4640</td>\n",
       "      <td>0.103942</td>\n",
       "    </tr>\n",
       "    <tr>\n",
       "      <th>1</th>\n",
       "      <td>2011/11/14</td>\n",
       "      <td>4450</td>\n",
       "      <td>0.122144</td>\n",
       "    </tr>\n",
       "    <tr>\n",
       "      <th>2</th>\n",
       "      <td>2011/11/15</td>\n",
       "      <td>4300</td>\n",
       "      <td>0.127975</td>\n",
       "    </tr>\n",
       "    <tr>\n",
       "      <th>3</th>\n",
       "      <td>2011/11/16</td>\n",
       "      <td>4290</td>\n",
       "      <td>0.128812</td>\n",
       "    </tr>\n",
       "    <tr>\n",
       "      <th>4</th>\n",
       "      <td>2011/11/17</td>\n",
       "      <td>4010</td>\n",
       "      <td>0.130313</td>\n",
       "    </tr>\n",
       "  </tbody>\n",
       "</table>\n",
       "</div>"
      ],
      "text/plain": [
       "         Date  Elec  Line loss\n",
       "0  2011/11/11  4640   0.103942\n",
       "1  2011/11/14  4450   0.122144\n",
       "2  2011/11/15  4300   0.127975\n",
       "3  2011/11/16  4290   0.128812\n",
       "4  2011/11/17  4010   0.130313"
      ]
     },
     "execution_count": 5,
     "metadata": {},
     "output_type": "execute_result"
    }
   ],
   "source": [
    "electricity.head()"
   ]
  },
  {
   "cell_type": "code",
   "execution_count": 9,
   "metadata": {},
   "outputs": [
    {
     "data": {
      "text/plain": [
       "'2011/11/15'"
      ]
     },
     "execution_count": 9,
     "metadata": {},
     "output_type": "execute_result"
    }
   ],
   "source": [
    "electricity[\"Date\"].iloc[2]"
   ]
  },
  {
   "cell_type": "code",
   "execution_count": null,
   "metadata": {
    "collapsed": true
   },
   "outputs": [],
   "source": []
  }
 ],
 "metadata": {
  "kernelspec": {
   "display_name": "Python 3",
   "language": "python",
   "name": "python3"
  },
  "language_info": {
   "codemirror_mode": {
    "name": "ipython",
    "version": 3
   },
   "file_extension": ".py",
   "mimetype": "text/x-python",
   "name": "python",
   "nbconvert_exporter": "python",
   "pygments_lexer": "ipython3",
   "version": "3.6.1"
  }
 },
 "nbformat": 4,
 "nbformat_minor": 2
}
