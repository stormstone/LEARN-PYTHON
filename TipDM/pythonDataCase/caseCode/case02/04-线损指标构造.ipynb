{
 "cells": [
  {
   "cell_type": "code",
   "execution_count": 1,
   "metadata": {
    "collapsed": true
   },
   "outputs": [],
   "source": [
    "import numpy as np\n",
    "import pandas as pd"
   ]
  },
  {
   "cell_type": "code",
   "execution_count": 2,
   "metadata": {
    "collapsed": true
   },
   "outputs": [],
   "source": [
    "line_loss = pd.read_csv(\"E:/P-Python/line_loss.csv\")"
   ]
  },
  {
   "cell_type": "code",
   "execution_count": 3,
   "metadata": {},
   "outputs": [
    {
     "data": {
      "text/html": [
       "<div>\n",
       "<style>\n",
       "    .dataframe thead tr:only-child th {\n",
       "        text-align: right;\n",
       "    }\n",
       "\n",
       "    .dataframe thead th {\n",
       "        text-align: left;\n",
       "    }\n",
       "\n",
       "    .dataframe tbody tr th {\n",
       "        vertical-align: top;\n",
       "    }\n",
       "</style>\n",
       "<table border=\"1\" class=\"dataframe\">\n",
       "  <thead>\n",
       "    <tr style=\"text-align: right;\">\n",
       "      <th></th>\n",
       "      <th>Line ID</th>\n",
       "      <th>Date</th>\n",
       "      <th>Output</th>\n",
       "      <th>Input</th>\n",
       "    </tr>\n",
       "  </thead>\n",
       "  <tbody>\n",
       "    <tr>\n",
       "      <th>0</th>\n",
       "      <td>A3E0102</td>\n",
       "      <td>2010/11/1</td>\n",
       "      <td>5566.8</td>\n",
       "      <td>3931.8</td>\n",
       "    </tr>\n",
       "    <tr>\n",
       "      <th>1</th>\n",
       "      <td>A3E0102</td>\n",
       "      <td>2010/11/2</td>\n",
       "      <td>5860.8</td>\n",
       "      <td>4157.9</td>\n",
       "    </tr>\n",
       "    <tr>\n",
       "      <th>2</th>\n",
       "      <td>A3E0102</td>\n",
       "      <td>2010/11/3</td>\n",
       "      <td>5314.8</td>\n",
       "      <td>3458.7</td>\n",
       "    </tr>\n",
       "    <tr>\n",
       "      <th>3</th>\n",
       "      <td>A3E0102</td>\n",
       "      <td>2010/11/4</td>\n",
       "      <td>5259.6</td>\n",
       "      <td>3426.1</td>\n",
       "    </tr>\n",
       "    <tr>\n",
       "      <th>4</th>\n",
       "      <td>A3E0102</td>\n",
       "      <td>2010/11/5</td>\n",
       "      <td>5520.0</td>\n",
       "      <td>3585.3</td>\n",
       "    </tr>\n",
       "  </tbody>\n",
       "</table>\n",
       "</div>"
      ],
      "text/plain": [
       "   Line ID       Date  Output   Input\n",
       "0  A3E0102  2010/11/1  5566.8  3931.8\n",
       "1  A3E0102  2010/11/2  5860.8  4157.9\n",
       "2  A3E0102  2010/11/3  5314.8  3458.7\n",
       "3  A3E0102  2010/11/4  5259.6  3426.1\n",
       "4  A3E0102  2010/11/5  5520.0  3585.3"
      ]
     },
     "execution_count": 3,
     "metadata": {},
     "output_type": "execute_result"
    }
   ],
   "source": [
    "line_loss.head()"
   ]
  },
  {
   "cell_type": "code",
   "execution_count": 4,
   "metadata": {
    "collapsed": true
   },
   "outputs": [],
   "source": [
    "#计算线损指标\n",
    "#统计当天与前后五天线损率的平均值v1/v2\n",
    "#判断其增长率大于1%的天数"
   ]
  },
  {
   "cell_type": "code",
   "execution_count": 5,
   "metadata": {
    "collapsed": true
   },
   "outputs": [],
   "source": [
    "line_loss_rate = (line_loss[\"Output\"]-line_loss[\"Input\"])/line_loss[\"Output\"]"
   ]
  },
  {
   "cell_type": "code",
   "execution_count": 6,
   "metadata": {
    "collapsed": true
   },
   "outputs": [],
   "source": [
    "#line_loss_rate2 = (line_loss.loc[:,\"Output\"]-line_loss.loc[:,\"Input\"])/line_loss.loc[:,\"Output\"]"
   ]
  },
  {
   "cell_type": "code",
   "execution_count": 7,
   "metadata": {
    "collapsed": true
   },
   "outputs": [],
   "source": [
    "#line_loss_rate == line_loss_rate2  #判断两种取值方式结果是否一致"
   ]
  },
  {
   "cell_type": "code",
   "execution_count": 8,
   "metadata": {
    "collapsed": true
   },
   "outputs": [],
   "source": [
    "line_loss[\"llrate\"] = line_loss_rate"
   ]
  },
  {
   "cell_type": "code",
   "execution_count": 9,
   "metadata": {},
   "outputs": [
    {
     "data": {
      "text/html": [
       "<div>\n",
       "<style>\n",
       "    .dataframe thead tr:only-child th {\n",
       "        text-align: right;\n",
       "    }\n",
       "\n",
       "    .dataframe thead th {\n",
       "        text-align: left;\n",
       "    }\n",
       "\n",
       "    .dataframe tbody tr th {\n",
       "        vertical-align: top;\n",
       "    }\n",
       "</style>\n",
       "<table border=\"1\" class=\"dataframe\">\n",
       "  <thead>\n",
       "    <tr style=\"text-align: right;\">\n",
       "      <th></th>\n",
       "      <th>Line ID</th>\n",
       "      <th>Date</th>\n",
       "      <th>Output</th>\n",
       "      <th>Input</th>\n",
       "      <th>llrate</th>\n",
       "    </tr>\n",
       "  </thead>\n",
       "  <tbody>\n",
       "    <tr>\n",
       "      <th>0</th>\n",
       "      <td>A3E0102</td>\n",
       "      <td>2010/11/1</td>\n",
       "      <td>5566.8</td>\n",
       "      <td>3931.8</td>\n",
       "      <td>0.293706</td>\n",
       "    </tr>\n",
       "    <tr>\n",
       "      <th>1</th>\n",
       "      <td>A3E0102</td>\n",
       "      <td>2010/11/2</td>\n",
       "      <td>5860.8</td>\n",
       "      <td>4157.9</td>\n",
       "      <td>0.290558</td>\n",
       "    </tr>\n",
       "    <tr>\n",
       "      <th>2</th>\n",
       "      <td>A3E0102</td>\n",
       "      <td>2010/11/3</td>\n",
       "      <td>5314.8</td>\n",
       "      <td>3458.7</td>\n",
       "      <td>0.349232</td>\n",
       "    </tr>\n",
       "    <tr>\n",
       "      <th>3</th>\n",
       "      <td>A3E0102</td>\n",
       "      <td>2010/11/4</td>\n",
       "      <td>5259.6</td>\n",
       "      <td>3426.1</td>\n",
       "      <td>0.348601</td>\n",
       "    </tr>\n",
       "    <tr>\n",
       "      <th>4</th>\n",
       "      <td>A3E0102</td>\n",
       "      <td>2010/11/5</td>\n",
       "      <td>5520.0</td>\n",
       "      <td>3585.3</td>\n",
       "      <td>0.350489</td>\n",
       "    </tr>\n",
       "  </tbody>\n",
       "</table>\n",
       "</div>"
      ],
      "text/plain": [
       "   Line ID       Date  Output   Input    llrate\n",
       "0  A3E0102  2010/11/1  5566.8  3931.8  0.293706\n",
       "1  A3E0102  2010/11/2  5860.8  4157.9  0.290558\n",
       "2  A3E0102  2010/11/3  5314.8  3458.7  0.349232\n",
       "3  A3E0102  2010/11/4  5259.6  3426.1  0.348601\n",
       "4  A3E0102  2010/11/5  5520.0  3585.3  0.350489"
      ]
     },
     "execution_count": 9,
     "metadata": {},
     "output_type": "execute_result"
    }
   ],
   "source": [
    "line_loss.head()"
   ]
  },
  {
   "cell_type": "code",
   "execution_count": 10,
   "metadata": {
    "collapsed": true
   },
   "outputs": [],
   "source": [
    "llrate = list(line_loss[\"llrate\"]) #转化成列表"
   ]
  },
  {
   "cell_type": "code",
   "execution_count": 11,
   "metadata": {
    "collapsed": true
   },
   "outputs": [],
   "source": [
    "length = len(llrate)"
   ]
  },
  {
   "cell_type": "code",
   "execution_count": 12,
   "metadata": {},
   "outputs": [
    {
     "name": "stderr",
     "output_type": "stream",
     "text": [
      "D:\\anaconda\\lib\\site-packages\\numpy\\core\\fromnumeric.py:2889: RuntimeWarning: Mean of empty slice.\n",
      "  out=out, **kwargs)\n",
      "D:\\anaconda\\lib\\site-packages\\numpy\\core\\_methods.py:80: RuntimeWarning: invalid value encountered in double_scalars\n",
      "  ret = ret.dtype.type(ret / rcount)\n"
     ]
    }
   ],
   "source": [
    "vf =[]#i 与 i-5\n",
    "vb =[]#i 与 i+5\n",
    "E = []\n",
    "for i in range(length):\n",
    "    if i <= 4 :\n",
    "        vf.append(np.mean(llrate[0:(i+1)]))  #i-5不足五天的情况线损率的平均值\n",
    "        vb.append(np.mean(llrate[i:(i+6)]))\n",
    "    if 4 < i <= (length-6):\n",
    "        vf.append(np.mean(llrate[(i-5):(i+1)]))  #i-5和i+5均满足五天的情况线损率的平均值\n",
    "        vb.append(np.mean(llrate[i:(i+6)]))\n",
    "    else:\n",
    "        vf.append(np.mean(llrate[(i-5):(i+1)]))\n",
    "        vb.append(np.mean(llrate[i:length]))    \n",
    "    if (vb[i]-vf[i])/vb[i] > 0.01:\n",
    "        E.append(1)\n",
    "    else:\n",
    "        E.append(0)"
   ]
  },
  {
   "cell_type": "code",
   "execution_count": 13,
   "metadata": {
    "collapsed": true
   },
   "outputs": [],
   "source": [
    "line_loss['alarm_loss'] = E"
   ]
  },
  {
   "cell_type": "code",
   "execution_count": 14,
   "metadata": {},
   "outputs": [
    {
     "data": {
      "text/html": [
       "<div>\n",
       "<table border=\"1\" class=\"dataframe\">\n",
       "  <thead>\n",
       "    <tr style=\"text-align: right;\">\n",
       "      <th></th>\n",
       "      <th>Line ID</th>\n",
       "      <th>Date</th>\n",
       "      <th>Output</th>\n",
       "      <th>Input</th>\n",
       "      <th>llrate</th>\n",
       "      <th>alarm_loss</th>\n",
       "    </tr>\n",
       "  </thead>\n",
       "  <tbody>\n",
       "    <tr>\n",
       "      <th>0</th>\n",
       "      <td>A3E0102</td>\n",
       "      <td>2010/11/1</td>\n",
       "      <td>5566.8</td>\n",
       "      <td>3931.8</td>\n",
       "      <td>0.293706</td>\n",
       "      <td>1</td>\n",
       "    </tr>\n",
       "    <tr>\n",
       "      <th>1</th>\n",
       "      <td>A3E0102</td>\n",
       "      <td>2010/11/2</td>\n",
       "      <td>5860.8</td>\n",
       "      <td>4157.9</td>\n",
       "      <td>0.290558</td>\n",
       "      <td>0</td>\n",
       "    </tr>\n",
       "    <tr>\n",
       "      <th>2</th>\n",
       "      <td>A3E0102</td>\n",
       "      <td>2010/11/3</td>\n",
       "      <td>5314.8</td>\n",
       "      <td>3458.7</td>\n",
       "      <td>0.349232</td>\n",
       "      <td>1</td>\n",
       "    </tr>\n",
       "    <tr>\n",
       "      <th>3</th>\n",
       "      <td>A3E0102</td>\n",
       "      <td>2010/11/4</td>\n",
       "      <td>5259.6</td>\n",
       "      <td>3426.1</td>\n",
       "      <td>0.348601</td>\n",
       "      <td>0</td>\n",
       "    </tr>\n",
       "    <tr>\n",
       "      <th>4</th>\n",
       "      <td>A3E0102</td>\n",
       "      <td>2010/11/5</td>\n",
       "      <td>5520.0</td>\n",
       "      <td>3585.3</td>\n",
       "      <td>0.350489</td>\n",
       "      <td>1</td>\n",
       "    </tr>\n",
       "  </tbody>\n",
       "</table>\n",
       "</div>"
      ],
      "text/plain": [
       "   Line ID       Date  Output   Input    llrate  alarm_loss\n",
       "0  A3E0102  2010/11/1  5566.8  3931.8  0.293706           1\n",
       "1  A3E0102  2010/11/2  5860.8  4157.9  0.290558           0\n",
       "2  A3E0102  2010/11/3  5314.8  3458.7  0.349232           1\n",
       "3  A3E0102  2010/11/4  5259.6  3426.1  0.348601           0\n",
       "4  A3E0102  2010/11/5  5520.0  3585.3  0.350489           1"
      ]
     },
     "execution_count": 14,
     "metadata": {},
     "output_type": "execute_result"
    }
   ],
   "source": [
    "line_loss.head()"
   ]
  },
  {
   "cell_type": "code",
   "execution_count": null,
   "metadata": {
    "collapsed": true
   },
   "outputs": [],
   "source": []
  }
 ],
 "metadata": {
  "kernelspec": {
   "display_name": "Python 3",
   "language": "python",
   "name": "python3"
  },
  "language_info": {
   "codemirror_mode": {
    "name": "ipython",
    "version": 3
   },
   "file_extension": ".py",
   "mimetype": "text/x-python",
   "name": "python",
   "nbconvert_exporter": "python",
   "pygments_lexer": "ipython3",
   "version": "3.6.1"
  }
 },
 "nbformat": 4,
 "nbformat_minor": 2
}
